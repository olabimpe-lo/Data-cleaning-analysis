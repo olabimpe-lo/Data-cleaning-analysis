{
 "cells": [
  {
   "cell_type": "markdown",
   "metadata": {},
   "source": [
    " IMPORT NEEDED LIBRARIES"
   ]
  },
  {
   "cell_type": "code",
   "execution_count": 1,
   "metadata": {},
   "outputs": [],
   "source": [
    "import pandas as pd\n",
    "import datetime \n",
    "import numpy as np\n",
    "from matplotlib import pyplot as plt"
   ]
  },
  {
   "cell_type": "markdown",
   "metadata": {},
   "source": [
    "READING THE FILE INTO CSV"
   ]
  },
  {
   "cell_type": "code",
   "execution_count": 2,
   "metadata": {},
   "outputs": [],
   "source": [
    "#read the plain data file text of trainprevloans to csv\n",
    "df1 = pd.read_csv('trainprevloans.txt')"
   ]
  },
  {
   "cell_type": "code",
   "execution_count": 3,
   "metadata": {},
   "outputs": [],
   "source": [
    "#read the plain data file text of trainperf to csv\n",
    "df2 = pd.read_csv('trainperf.txt')"
   ]
  },
  {
   "cell_type": "code",
   "execution_count": 4,
   "metadata": {},
   "outputs": [],
   "source": [
    "#read the plain data file text of traindemographics to csv\n",
    "df3 = pd.read_csv('traindemographics.txt')"
   ]
  },
  {
   "cell_type": "code",
   "execution_count": 5,
   "metadata": {},
   "outputs": [
    {
     "data": {
      "text/html": [
       "<div>\n",
       "<style scoped>\n",
       "    .dataframe tbody tr th:only-of-type {\n",
       "        vertical-align: middle;\n",
       "    }\n",
       "\n",
       "    .dataframe tbody tr th {\n",
       "        vertical-align: top;\n",
       "    }\n",
       "\n",
       "    .dataframe thead th {\n",
       "        text-align: right;\n",
       "    }\n",
       "</style>\n",
       "<table border=\"1\" class=\"dataframe\">\n",
       "  <thead>\n",
       "    <tr style=\"text-align: right;\">\n",
       "      <th></th>\n",
       "      <th>customerid</th>\n",
       "      <th>systemloanid</th>\n",
       "      <th>loannumber</th>\n",
       "      <th>approveddate</th>\n",
       "      <th>creationdate</th>\n",
       "      <th>loanamount</th>\n",
       "      <th>totaldue</th>\n",
       "      <th>termdays</th>\n",
       "      <th>closeddate</th>\n",
       "      <th>referredby</th>\n",
       "      <th>firstduedate</th>\n",
       "      <th>firstrepaiddate</th>\n",
       "    </tr>\n",
       "  </thead>\n",
       "  <tbody>\n",
       "    <tr>\n",
       "      <td>0</td>\n",
       "      <td>8a2a81a74ce8c05d014cfb32a0da1049</td>\n",
       "      <td>301682320</td>\n",
       "      <td>2</td>\n",
       "      <td>2016-08-15 18:22:40.000000</td>\n",
       "      <td>2016-08-15 17:22:32.000000</td>\n",
       "      <td>10000.0</td>\n",
       "      <td>13000.0</td>\n",
       "      <td>30</td>\n",
       "      <td>2016-09-01 16:06:48.000000</td>\n",
       "      <td>NaN</td>\n",
       "      <td>2016-09-14 00:00:00.000000</td>\n",
       "      <td>2016-09-01 15:51:43.000000</td>\n",
       "    </tr>\n",
       "    <tr>\n",
       "      <td>1</td>\n",
       "      <td>8a2a81a74ce8c05d014cfb32a0da1049</td>\n",
       "      <td>301883808</td>\n",
       "      <td>9</td>\n",
       "      <td>2017-04-28 18:39:07.000000</td>\n",
       "      <td>2017-04-28 17:38:53.000000</td>\n",
       "      <td>10000.0</td>\n",
       "      <td>13000.0</td>\n",
       "      <td>30</td>\n",
       "      <td>2017-05-28 14:44:49.000000</td>\n",
       "      <td>NaN</td>\n",
       "      <td>2017-05-30 00:00:00.000000</td>\n",
       "      <td>2017-05-26 00:00:00.000000</td>\n",
       "    </tr>\n",
       "    <tr>\n",
       "      <td>2</td>\n",
       "      <td>8a2a81a74ce8c05d014cfb32a0da1049</td>\n",
       "      <td>301831714</td>\n",
       "      <td>8</td>\n",
       "      <td>2017-03-05 10:56:25.000000</td>\n",
       "      <td>2017-03-05 09:56:19.000000</td>\n",
       "      <td>20000.0</td>\n",
       "      <td>23800.0</td>\n",
       "      <td>30</td>\n",
       "      <td>2017-04-26 22:18:56.000000</td>\n",
       "      <td>NaN</td>\n",
       "      <td>2017-04-04 00:00:00.000000</td>\n",
       "      <td>2017-04-26 22:03:47.000000</td>\n",
       "    </tr>\n",
       "    <tr>\n",
       "      <td>3</td>\n",
       "      <td>8a8588f35438fe12015444567666018e</td>\n",
       "      <td>301861541</td>\n",
       "      <td>5</td>\n",
       "      <td>2017-04-09 18:25:55.000000</td>\n",
       "      <td>2017-04-09 17:25:42.000000</td>\n",
       "      <td>10000.0</td>\n",
       "      <td>11500.0</td>\n",
       "      <td>15</td>\n",
       "      <td>2017-04-24 01:35:52.000000</td>\n",
       "      <td>NaN</td>\n",
       "      <td>2017-04-24 00:00:00.000000</td>\n",
       "      <td>2017-04-24 00:48:43.000000</td>\n",
       "    </tr>\n",
       "    <tr>\n",
       "      <td>4</td>\n",
       "      <td>8a85890754145ace015429211b513e16</td>\n",
       "      <td>301941754</td>\n",
       "      <td>2</td>\n",
       "      <td>2017-06-17 09:29:57.000000</td>\n",
       "      <td>2017-06-17 08:29:50.000000</td>\n",
       "      <td>10000.0</td>\n",
       "      <td>11500.0</td>\n",
       "      <td>15</td>\n",
       "      <td>2017-07-14 21:18:43.000000</td>\n",
       "      <td>NaN</td>\n",
       "      <td>2017-07-03 00:00:00.000000</td>\n",
       "      <td>2017-07-14 21:08:35.000000</td>\n",
       "    </tr>\n",
       "  </tbody>\n",
       "</table>\n",
       "</div>"
      ],
      "text/plain": [
       "                         customerid  systemloanid  loannumber  \\\n",
       "0  8a2a81a74ce8c05d014cfb32a0da1049     301682320           2   \n",
       "1  8a2a81a74ce8c05d014cfb32a0da1049     301883808           9   \n",
       "2  8a2a81a74ce8c05d014cfb32a0da1049     301831714           8   \n",
       "3  8a8588f35438fe12015444567666018e     301861541           5   \n",
       "4  8a85890754145ace015429211b513e16     301941754           2   \n",
       "\n",
       "                 approveddate                creationdate  loanamount  \\\n",
       "0  2016-08-15 18:22:40.000000  2016-08-15 17:22:32.000000     10000.0   \n",
       "1  2017-04-28 18:39:07.000000  2017-04-28 17:38:53.000000     10000.0   \n",
       "2  2017-03-05 10:56:25.000000  2017-03-05 09:56:19.000000     20000.0   \n",
       "3  2017-04-09 18:25:55.000000  2017-04-09 17:25:42.000000     10000.0   \n",
       "4  2017-06-17 09:29:57.000000  2017-06-17 08:29:50.000000     10000.0   \n",
       "\n",
       "   totaldue  termdays                  closeddate referredby  \\\n",
       "0   13000.0        30  2016-09-01 16:06:48.000000        NaN   \n",
       "1   13000.0        30  2017-05-28 14:44:49.000000        NaN   \n",
       "2   23800.0        30  2017-04-26 22:18:56.000000        NaN   \n",
       "3   11500.0        15  2017-04-24 01:35:52.000000        NaN   \n",
       "4   11500.0        15  2017-07-14 21:18:43.000000        NaN   \n",
       "\n",
       "                 firstduedate             firstrepaiddate  \n",
       "0  2016-09-14 00:00:00.000000  2016-09-01 15:51:43.000000  \n",
       "1  2017-05-30 00:00:00.000000  2017-05-26 00:00:00.000000  \n",
       "2  2017-04-04 00:00:00.000000  2017-04-26 22:03:47.000000  \n",
       "3  2017-04-24 00:00:00.000000  2017-04-24 00:48:43.000000  \n",
       "4  2017-07-03 00:00:00.000000  2017-07-14 21:08:35.000000  "
      ]
     },
     "execution_count": 5,
     "metadata": {},
     "output_type": "execute_result"
    }
   ],
   "source": [
    "#calling the first five data of the file trainprevloans\n",
    "df1.head()"
   ]
  },
  {
   "cell_type": "code",
   "execution_count": 6,
   "metadata": {},
   "outputs": [
    {
     "data": {
      "text/html": [
       "<div>\n",
       "<style scoped>\n",
       "    .dataframe tbody tr th:only-of-type {\n",
       "        vertical-align: middle;\n",
       "    }\n",
       "\n",
       "    .dataframe tbody tr th {\n",
       "        vertical-align: top;\n",
       "    }\n",
       "\n",
       "    .dataframe thead th {\n",
       "        text-align: right;\n",
       "    }\n",
       "</style>\n",
       "<table border=\"1\" class=\"dataframe\">\n",
       "  <thead>\n",
       "    <tr style=\"text-align: right;\">\n",
       "      <th></th>\n",
       "      <th>customerid</th>\n",
       "      <th>systemloanid</th>\n",
       "      <th>loannumber</th>\n",
       "      <th>approveddate</th>\n",
       "      <th>creationdate</th>\n",
       "      <th>loanamount</th>\n",
       "      <th>totaldue</th>\n",
       "      <th>termdays</th>\n",
       "      <th>referredby</th>\n",
       "      <th>good_bad_flag</th>\n",
       "    </tr>\n",
       "  </thead>\n",
       "  <tbody>\n",
       "    <tr>\n",
       "      <td>0</td>\n",
       "      <td>8a2a81a74ce8c05d014cfb32a0da1049</td>\n",
       "      <td>301994762</td>\n",
       "      <td>12</td>\n",
       "      <td>2017-07-25 08:22:56.000000</td>\n",
       "      <td>2017-07-25 07:22:47.000000</td>\n",
       "      <td>30000.0</td>\n",
       "      <td>34500.0</td>\n",
       "      <td>30</td>\n",
       "      <td>NaN</td>\n",
       "      <td>Good</td>\n",
       "    </tr>\n",
       "    <tr>\n",
       "      <td>1</td>\n",
       "      <td>8a85886e54beabf90154c0a29ae757c0</td>\n",
       "      <td>301965204</td>\n",
       "      <td>2</td>\n",
       "      <td>2017-07-05 17:04:41.000000</td>\n",
       "      <td>2017-07-05 16:04:18.000000</td>\n",
       "      <td>15000.0</td>\n",
       "      <td>17250.0</td>\n",
       "      <td>30</td>\n",
       "      <td>NaN</td>\n",
       "      <td>Good</td>\n",
       "    </tr>\n",
       "    <tr>\n",
       "      <td>2</td>\n",
       "      <td>8a8588f35438fe12015444567666018e</td>\n",
       "      <td>301966580</td>\n",
       "      <td>7</td>\n",
       "      <td>2017-07-06 14:52:57.000000</td>\n",
       "      <td>2017-07-06 13:52:51.000000</td>\n",
       "      <td>20000.0</td>\n",
       "      <td>22250.0</td>\n",
       "      <td>15</td>\n",
       "      <td>NaN</td>\n",
       "      <td>Good</td>\n",
       "    </tr>\n",
       "    <tr>\n",
       "      <td>3</td>\n",
       "      <td>8a85890754145ace015429211b513e16</td>\n",
       "      <td>301999343</td>\n",
       "      <td>3</td>\n",
       "      <td>2017-07-27 19:00:41.000000</td>\n",
       "      <td>2017-07-27 18:00:35.000000</td>\n",
       "      <td>10000.0</td>\n",
       "      <td>11500.0</td>\n",
       "      <td>15</td>\n",
       "      <td>NaN</td>\n",
       "      <td>Good</td>\n",
       "    </tr>\n",
       "    <tr>\n",
       "      <td>4</td>\n",
       "      <td>8a858970548359cc0154883481981866</td>\n",
       "      <td>301962360</td>\n",
       "      <td>9</td>\n",
       "      <td>2017-07-03 23:42:45.000000</td>\n",
       "      <td>2017-07-03 22:42:39.000000</td>\n",
       "      <td>40000.0</td>\n",
       "      <td>44000.0</td>\n",
       "      <td>30</td>\n",
       "      <td>NaN</td>\n",
       "      <td>Good</td>\n",
       "    </tr>\n",
       "  </tbody>\n",
       "</table>\n",
       "</div>"
      ],
      "text/plain": [
       "                         customerid  systemloanid  loannumber  \\\n",
       "0  8a2a81a74ce8c05d014cfb32a0da1049     301994762          12   \n",
       "1  8a85886e54beabf90154c0a29ae757c0     301965204           2   \n",
       "2  8a8588f35438fe12015444567666018e     301966580           7   \n",
       "3  8a85890754145ace015429211b513e16     301999343           3   \n",
       "4  8a858970548359cc0154883481981866     301962360           9   \n",
       "\n",
       "                 approveddate                creationdate  loanamount  \\\n",
       "0  2017-07-25 08:22:56.000000  2017-07-25 07:22:47.000000     30000.0   \n",
       "1  2017-07-05 17:04:41.000000  2017-07-05 16:04:18.000000     15000.0   \n",
       "2  2017-07-06 14:52:57.000000  2017-07-06 13:52:51.000000     20000.0   \n",
       "3  2017-07-27 19:00:41.000000  2017-07-27 18:00:35.000000     10000.0   \n",
       "4  2017-07-03 23:42:45.000000  2017-07-03 22:42:39.000000     40000.0   \n",
       "\n",
       "   totaldue  termdays referredby good_bad_flag  \n",
       "0   34500.0        30        NaN          Good  \n",
       "1   17250.0        30        NaN          Good  \n",
       "2   22250.0        15        NaN          Good  \n",
       "3   11500.0        15        NaN          Good  \n",
       "4   44000.0        30        NaN          Good  "
      ]
     },
     "execution_count": 6,
     "metadata": {},
     "output_type": "execute_result"
    }
   ],
   "source": [
    "#calling the first five data of the file trainperf\n",
    "df2.head()"
   ]
  },
  {
   "cell_type": "code",
   "execution_count": 7,
   "metadata": {},
   "outputs": [
    {
     "data": {
      "text/html": [
       "<div>\n",
       "<style scoped>\n",
       "    .dataframe tbody tr th:only-of-type {\n",
       "        vertical-align: middle;\n",
       "    }\n",
       "\n",
       "    .dataframe tbody tr th {\n",
       "        vertical-align: top;\n",
       "    }\n",
       "\n",
       "    .dataframe thead th {\n",
       "        text-align: right;\n",
       "    }\n",
       "</style>\n",
       "<table border=\"1\" class=\"dataframe\">\n",
       "  <thead>\n",
       "    <tr style=\"text-align: right;\">\n",
       "      <th></th>\n",
       "      <th>customerid</th>\n",
       "      <th>birthdate</th>\n",
       "      <th>bank_account_type</th>\n",
       "      <th>longitude_gps</th>\n",
       "      <th>latitude_gps</th>\n",
       "      <th>bank_name_clients</th>\n",
       "      <th>bank_branch_clients</th>\n",
       "      <th>employment_status_clients</th>\n",
       "      <th>level_of_education_clients</th>\n",
       "    </tr>\n",
       "  </thead>\n",
       "  <tbody>\n",
       "    <tr>\n",
       "      <td>0</td>\n",
       "      <td>8a858e135cb22031015cbafc76964ebd</td>\n",
       "      <td>1973-10-10 00:00:00.000000</td>\n",
       "      <td>Savings</td>\n",
       "      <td>3.319219</td>\n",
       "      <td>6.528604</td>\n",
       "      <td>GT Bank</td>\n",
       "      <td>NaN</td>\n",
       "      <td>NaN</td>\n",
       "      <td>NaN</td>\n",
       "    </tr>\n",
       "    <tr>\n",
       "      <td>1</td>\n",
       "      <td>8a858e275c7ea5ec015c82482d7c3996</td>\n",
       "      <td>1986-01-21 00:00:00.000000</td>\n",
       "      <td>Savings</td>\n",
       "      <td>3.325598</td>\n",
       "      <td>7.119403</td>\n",
       "      <td>Sterling Bank</td>\n",
       "      <td>NaN</td>\n",
       "      <td>Permanent</td>\n",
       "      <td>NaN</td>\n",
       "    </tr>\n",
       "    <tr>\n",
       "      <td>2</td>\n",
       "      <td>8a858e5b5bd99460015bdc95cd485634</td>\n",
       "      <td>1987-04-01 00:00:00.000000</td>\n",
       "      <td>Savings</td>\n",
       "      <td>5.746100</td>\n",
       "      <td>5.563174</td>\n",
       "      <td>Fidelity Bank</td>\n",
       "      <td>NaN</td>\n",
       "      <td>NaN</td>\n",
       "      <td>NaN</td>\n",
       "    </tr>\n",
       "    <tr>\n",
       "      <td>3</td>\n",
       "      <td>8a858efd5ca70688015cabd1f1e94b55</td>\n",
       "      <td>1991-07-19 00:00:00.000000</td>\n",
       "      <td>Savings</td>\n",
       "      <td>3.362850</td>\n",
       "      <td>6.642485</td>\n",
       "      <td>GT Bank</td>\n",
       "      <td>NaN</td>\n",
       "      <td>Permanent</td>\n",
       "      <td>NaN</td>\n",
       "    </tr>\n",
       "    <tr>\n",
       "      <td>4</td>\n",
       "      <td>8a858e785acd3412015acd48f4920d04</td>\n",
       "      <td>1982-11-22 00:00:00.000000</td>\n",
       "      <td>Savings</td>\n",
       "      <td>8.455332</td>\n",
       "      <td>11.971410</td>\n",
       "      <td>GT Bank</td>\n",
       "      <td>NaN</td>\n",
       "      <td>Permanent</td>\n",
       "      <td>NaN</td>\n",
       "    </tr>\n",
       "  </tbody>\n",
       "</table>\n",
       "</div>"
      ],
      "text/plain": [
       "                         customerid                   birthdate  \\\n",
       "0  8a858e135cb22031015cbafc76964ebd  1973-10-10 00:00:00.000000   \n",
       "1  8a858e275c7ea5ec015c82482d7c3996  1986-01-21 00:00:00.000000   \n",
       "2  8a858e5b5bd99460015bdc95cd485634  1987-04-01 00:00:00.000000   \n",
       "3  8a858efd5ca70688015cabd1f1e94b55  1991-07-19 00:00:00.000000   \n",
       "4  8a858e785acd3412015acd48f4920d04  1982-11-22 00:00:00.000000   \n",
       "\n",
       "  bank_account_type  longitude_gps  latitude_gps bank_name_clients  \\\n",
       "0           Savings       3.319219      6.528604           GT Bank   \n",
       "1           Savings       3.325598      7.119403     Sterling Bank   \n",
       "2           Savings       5.746100      5.563174     Fidelity Bank   \n",
       "3           Savings       3.362850      6.642485           GT Bank   \n",
       "4           Savings       8.455332     11.971410           GT Bank   \n",
       "\n",
       "  bank_branch_clients employment_status_clients level_of_education_clients  \n",
       "0                 NaN                       NaN                        NaN  \n",
       "1                 NaN                 Permanent                        NaN  \n",
       "2                 NaN                       NaN                        NaN  \n",
       "3                 NaN                 Permanent                        NaN  \n",
       "4                 NaN                 Permanent                        NaN  "
      ]
     },
     "execution_count": 7,
     "metadata": {},
     "output_type": "execute_result"
    }
   ],
   "source": [
    "#calling the first five data of the file traindemographics\n",
    "df3.head()"
   ]
  },
  {
   "cell_type": "code",
   "execution_count": 8,
   "metadata": {},
   "outputs": [
    {
     "data": {
      "text/plain": [
       "Index(['customerid', 'systemloanid', 'loannumber', 'approveddate',\n",
       "       'creationdate', 'loanamount', 'totaldue', 'termdays', 'closeddate',\n",
       "       'referredby', 'firstduedate', 'firstrepaiddate'],\n",
       "      dtype='object')"
      ]
     },
     "execution_count": 8,
     "metadata": {},
     "output_type": "execute_result"
    }
   ],
   "source": [
    "#The columns in the trainprevloan\n",
    "df1.columns"
   ]
  },
  {
   "cell_type": "code",
   "execution_count": 9,
   "metadata": {},
   "outputs": [
    {
     "data": {
      "text/plain": [
       "Index(['customerid', 'systemloanid', 'loannumber', 'approveddate',\n",
       "       'creationdate', 'loanamount', 'totaldue', 'termdays', 'referredby',\n",
       "       'good_bad_flag'],\n",
       "      dtype='object')"
      ]
     },
     "execution_count": 9,
     "metadata": {},
     "output_type": "execute_result"
    }
   ],
   "source": [
    "#The columns in the trainperf\n",
    "df2.columns"
   ]
  },
  {
   "cell_type": "code",
   "execution_count": 10,
   "metadata": {},
   "outputs": [
    {
     "data": {
      "text/plain": [
       "Index(['customerid', 'birthdate', 'bank_account_type', 'longitude_gps',\n",
       "       'latitude_gps', 'bank_name_clients', 'bank_branch_clients',\n",
       "       'employment_status_clients', 'level_of_education_clients'],\n",
       "      dtype='object')"
      ]
     },
     "execution_count": 10,
     "metadata": {},
     "output_type": "execute_result"
    }
   ],
   "source": [
    "#The columns in the traindemographics\n",
    "df3.columns"
   ]
  },
  {
   "cell_type": "code",
   "execution_count": 11,
   "metadata": {},
   "outputs": [
    {
     "data": {
      "text/plain": [
       "pandas.core.frame.DataFrame"
      ]
     },
     "execution_count": 11,
     "metadata": {},
     "output_type": "execute_result"
    }
   ],
   "source": [
    "#Type of dataframe 1 \n",
    "type(df1)"
   ]
  },
  {
   "cell_type": "code",
   "execution_count": 12,
   "metadata": {},
   "outputs": [
    {
     "data": {
      "text/plain": [
       "pandas.core.frame.DataFrame"
      ]
     },
     "execution_count": 12,
     "metadata": {},
     "output_type": "execute_result"
    }
   ],
   "source": [
    "#Type of dataframe 2 \n",
    "type(df2)"
   ]
  },
  {
   "cell_type": "code",
   "execution_count": 13,
   "metadata": {},
   "outputs": [
    {
     "data": {
      "text/plain": [
       "(18183, 12)"
      ]
     },
     "execution_count": 13,
     "metadata": {},
     "output_type": "execute_result"
    }
   ],
   "source": [
    "#Type of shape for dataframe 1 ;18183 rows ,12 colunms \n",
    "df1.shape"
   ]
  },
  {
   "cell_type": "code",
   "execution_count": 14,
   "metadata": {},
   "outputs": [
    {
     "data": {
      "text/plain": [
       "(4368, 10)"
      ]
     },
     "execution_count": 14,
     "metadata": {},
     "output_type": "execute_result"
    }
   ],
   "source": [
    "#Type of shape for dataframe 1 ;4368 rows ,10 colunms\n",
    "df2.shape"
   ]
  },
  {
   "cell_type": "code",
   "execution_count": 15,
   "metadata": {},
   "outputs": [
    {
     "data": {
      "text/plain": [
       "(4346, 9)"
      ]
     },
     "execution_count": 15,
     "metadata": {},
     "output_type": "execute_result"
    }
   ],
   "source": [
    "#Type of shape for dataframe 1 ;4346 rows ,10 colunms\n",
    "df3.shape"
   ]
  },
  {
   "cell_type": "markdown",
   "metadata": {},
   "source": [
    "COMBINATION OF THE THREE DATA FRAMES BY CONCATENATING."
   ]
  },
  {
   "cell_type": "code",
   "execution_count": 16,
   "metadata": {},
   "outputs": [
    {
     "name": "stderr",
     "output_type": "stream",
     "text": [
      "C:\\Users\\user\\Anaconda3\\lib\\site-packages\\ipykernel_launcher.py:2: FutureWarning: Sorting because non-concatenation axis is not aligned. A future version\n",
      "of pandas will change to not sort by default.\n",
      "\n",
      "To accept the future behavior, pass 'sort=False'.\n",
      "\n",
      "To retain the current behavior and silence the warning, pass 'sort=True'.\n",
      "\n",
      "  \n"
     ]
    }
   ],
   "source": [
    "#combining the rows and columns of data frame 1,dataframe 2 and dataframe3 \n",
    "merged_df=pd.concat([df1,df2,df3])"
   ]
  },
  {
   "cell_type": "code",
   "execution_count": 17,
   "metadata": {},
   "outputs": [
    {
     "data": {
      "text/html": [
       "<div>\n",
       "<style scoped>\n",
       "    .dataframe tbody tr th:only-of-type {\n",
       "        vertical-align: middle;\n",
       "    }\n",
       "\n",
       "    .dataframe tbody tr th {\n",
       "        vertical-align: top;\n",
       "    }\n",
       "\n",
       "    .dataframe thead th {\n",
       "        text-align: right;\n",
       "    }\n",
       "</style>\n",
       "<table border=\"1\" class=\"dataframe\">\n",
       "  <thead>\n",
       "    <tr style=\"text-align: right;\">\n",
       "      <th></th>\n",
       "      <th>approveddate</th>\n",
       "      <th>bank_account_type</th>\n",
       "      <th>bank_branch_clients</th>\n",
       "      <th>bank_name_clients</th>\n",
       "      <th>birthdate</th>\n",
       "      <th>closeddate</th>\n",
       "      <th>creationdate</th>\n",
       "      <th>customerid</th>\n",
       "      <th>employment_status_clients</th>\n",
       "      <th>firstduedate</th>\n",
       "      <th>...</th>\n",
       "      <th>good_bad_flag</th>\n",
       "      <th>latitude_gps</th>\n",
       "      <th>level_of_education_clients</th>\n",
       "      <th>loanamount</th>\n",
       "      <th>loannumber</th>\n",
       "      <th>longitude_gps</th>\n",
       "      <th>referredby</th>\n",
       "      <th>systemloanid</th>\n",
       "      <th>termdays</th>\n",
       "      <th>totaldue</th>\n",
       "    </tr>\n",
       "  </thead>\n",
       "  <tbody>\n",
       "    <tr>\n",
       "      <td>0</td>\n",
       "      <td>2016-08-15 18:22:40.000000</td>\n",
       "      <td>NaN</td>\n",
       "      <td>NaN</td>\n",
       "      <td>NaN</td>\n",
       "      <td>NaN</td>\n",
       "      <td>2016-09-01 16:06:48.000000</td>\n",
       "      <td>2016-08-15 17:22:32.000000</td>\n",
       "      <td>8a2a81a74ce8c05d014cfb32a0da1049</td>\n",
       "      <td>NaN</td>\n",
       "      <td>2016-09-14 00:00:00.000000</td>\n",
       "      <td>...</td>\n",
       "      <td>NaN</td>\n",
       "      <td>NaN</td>\n",
       "      <td>NaN</td>\n",
       "      <td>10000.0</td>\n",
       "      <td>2.0</td>\n",
       "      <td>NaN</td>\n",
       "      <td>NaN</td>\n",
       "      <td>301682320.0</td>\n",
       "      <td>30.0</td>\n",
       "      <td>13000.0</td>\n",
       "    </tr>\n",
       "    <tr>\n",
       "      <td>1</td>\n",
       "      <td>2017-04-28 18:39:07.000000</td>\n",
       "      <td>NaN</td>\n",
       "      <td>NaN</td>\n",
       "      <td>NaN</td>\n",
       "      <td>NaN</td>\n",
       "      <td>2017-05-28 14:44:49.000000</td>\n",
       "      <td>2017-04-28 17:38:53.000000</td>\n",
       "      <td>8a2a81a74ce8c05d014cfb32a0da1049</td>\n",
       "      <td>NaN</td>\n",
       "      <td>2017-05-30 00:00:00.000000</td>\n",
       "      <td>...</td>\n",
       "      <td>NaN</td>\n",
       "      <td>NaN</td>\n",
       "      <td>NaN</td>\n",
       "      <td>10000.0</td>\n",
       "      <td>9.0</td>\n",
       "      <td>NaN</td>\n",
       "      <td>NaN</td>\n",
       "      <td>301883808.0</td>\n",
       "      <td>30.0</td>\n",
       "      <td>13000.0</td>\n",
       "    </tr>\n",
       "    <tr>\n",
       "      <td>2</td>\n",
       "      <td>2017-03-05 10:56:25.000000</td>\n",
       "      <td>NaN</td>\n",
       "      <td>NaN</td>\n",
       "      <td>NaN</td>\n",
       "      <td>NaN</td>\n",
       "      <td>2017-04-26 22:18:56.000000</td>\n",
       "      <td>2017-03-05 09:56:19.000000</td>\n",
       "      <td>8a2a81a74ce8c05d014cfb32a0da1049</td>\n",
       "      <td>NaN</td>\n",
       "      <td>2017-04-04 00:00:00.000000</td>\n",
       "      <td>...</td>\n",
       "      <td>NaN</td>\n",
       "      <td>NaN</td>\n",
       "      <td>NaN</td>\n",
       "      <td>20000.0</td>\n",
       "      <td>8.0</td>\n",
       "      <td>NaN</td>\n",
       "      <td>NaN</td>\n",
       "      <td>301831714.0</td>\n",
       "      <td>30.0</td>\n",
       "      <td>23800.0</td>\n",
       "    </tr>\n",
       "    <tr>\n",
       "      <td>3</td>\n",
       "      <td>2017-04-09 18:25:55.000000</td>\n",
       "      <td>NaN</td>\n",
       "      <td>NaN</td>\n",
       "      <td>NaN</td>\n",
       "      <td>NaN</td>\n",
       "      <td>2017-04-24 01:35:52.000000</td>\n",
       "      <td>2017-04-09 17:25:42.000000</td>\n",
       "      <td>8a8588f35438fe12015444567666018e</td>\n",
       "      <td>NaN</td>\n",
       "      <td>2017-04-24 00:00:00.000000</td>\n",
       "      <td>...</td>\n",
       "      <td>NaN</td>\n",
       "      <td>NaN</td>\n",
       "      <td>NaN</td>\n",
       "      <td>10000.0</td>\n",
       "      <td>5.0</td>\n",
       "      <td>NaN</td>\n",
       "      <td>NaN</td>\n",
       "      <td>301861541.0</td>\n",
       "      <td>15.0</td>\n",
       "      <td>11500.0</td>\n",
       "    </tr>\n",
       "    <tr>\n",
       "      <td>4</td>\n",
       "      <td>2017-06-17 09:29:57.000000</td>\n",
       "      <td>NaN</td>\n",
       "      <td>NaN</td>\n",
       "      <td>NaN</td>\n",
       "      <td>NaN</td>\n",
       "      <td>2017-07-14 21:18:43.000000</td>\n",
       "      <td>2017-06-17 08:29:50.000000</td>\n",
       "      <td>8a85890754145ace015429211b513e16</td>\n",
       "      <td>NaN</td>\n",
       "      <td>2017-07-03 00:00:00.000000</td>\n",
       "      <td>...</td>\n",
       "      <td>NaN</td>\n",
       "      <td>NaN</td>\n",
       "      <td>NaN</td>\n",
       "      <td>10000.0</td>\n",
       "      <td>2.0</td>\n",
       "      <td>NaN</td>\n",
       "      <td>NaN</td>\n",
       "      <td>301941754.0</td>\n",
       "      <td>15.0</td>\n",
       "      <td>11500.0</td>\n",
       "    </tr>\n",
       "  </tbody>\n",
       "</table>\n",
       "<p>5 rows × 21 columns</p>\n",
       "</div>"
      ],
      "text/plain": [
       "                 approveddate bank_account_type bank_branch_clients  \\\n",
       "0  2016-08-15 18:22:40.000000               NaN                 NaN   \n",
       "1  2017-04-28 18:39:07.000000               NaN                 NaN   \n",
       "2  2017-03-05 10:56:25.000000               NaN                 NaN   \n",
       "3  2017-04-09 18:25:55.000000               NaN                 NaN   \n",
       "4  2017-06-17 09:29:57.000000               NaN                 NaN   \n",
       "\n",
       "  bank_name_clients birthdate                  closeddate  \\\n",
       "0               NaN       NaN  2016-09-01 16:06:48.000000   \n",
       "1               NaN       NaN  2017-05-28 14:44:49.000000   \n",
       "2               NaN       NaN  2017-04-26 22:18:56.000000   \n",
       "3               NaN       NaN  2017-04-24 01:35:52.000000   \n",
       "4               NaN       NaN  2017-07-14 21:18:43.000000   \n",
       "\n",
       "                 creationdate                        customerid  \\\n",
       "0  2016-08-15 17:22:32.000000  8a2a81a74ce8c05d014cfb32a0da1049   \n",
       "1  2017-04-28 17:38:53.000000  8a2a81a74ce8c05d014cfb32a0da1049   \n",
       "2  2017-03-05 09:56:19.000000  8a2a81a74ce8c05d014cfb32a0da1049   \n",
       "3  2017-04-09 17:25:42.000000  8a8588f35438fe12015444567666018e   \n",
       "4  2017-06-17 08:29:50.000000  8a85890754145ace015429211b513e16   \n",
       "\n",
       "  employment_status_clients                firstduedate  ... good_bad_flag  \\\n",
       "0                       NaN  2016-09-14 00:00:00.000000  ...           NaN   \n",
       "1                       NaN  2017-05-30 00:00:00.000000  ...           NaN   \n",
       "2                       NaN  2017-04-04 00:00:00.000000  ...           NaN   \n",
       "3                       NaN  2017-04-24 00:00:00.000000  ...           NaN   \n",
       "4                       NaN  2017-07-03 00:00:00.000000  ...           NaN   \n",
       "\n",
       "  latitude_gps  level_of_education_clients loanamount  loannumber  \\\n",
       "0          NaN                         NaN    10000.0         2.0   \n",
       "1          NaN                         NaN    10000.0         9.0   \n",
       "2          NaN                         NaN    20000.0         8.0   \n",
       "3          NaN                         NaN    10000.0         5.0   \n",
       "4          NaN                         NaN    10000.0         2.0   \n",
       "\n",
       "   longitude_gps  referredby systemloanid  termdays  totaldue  \n",
       "0            NaN         NaN  301682320.0      30.0   13000.0  \n",
       "1            NaN         NaN  301883808.0      30.0   13000.0  \n",
       "2            NaN         NaN  301831714.0      30.0   23800.0  \n",
       "3            NaN         NaN  301861541.0      15.0   11500.0  \n",
       "4            NaN         NaN  301941754.0      15.0   11500.0  \n",
       "\n",
       "[5 rows x 21 columns]"
      ]
     },
     "execution_count": 17,
     "metadata": {},
     "output_type": "execute_result"
    }
   ],
   "source": [
    "#return the first five rows of the merged column\n",
    "merged_df.head()"
   ]
  },
  {
   "cell_type": "code",
   "execution_count": 18,
   "metadata": {},
   "outputs": [
    {
     "data": {
      "text/plain": [
       "(26897, 21)"
      ]
     },
     "execution_count": 18,
     "metadata": {},
     "output_type": "execute_result"
    }
   ],
   "source": [
    "#We have 26897 number of observations and 21 number of the merged data frame. \n",
    "merged_df.shape"
   ]
  },
  {
   "cell_type": "code",
   "execution_count": 19,
   "metadata": {},
   "outputs": [
    {
     "name": "stdout",
     "output_type": "stream",
     "text": [
      "<class 'pandas.core.frame.DataFrame'>\n",
      "Int64Index: 26897 entries, 0 to 4345\n",
      "Data columns (total 21 columns):\n",
      "approveddate                  22551 non-null object\n",
      "bank_account_type             4346 non-null object\n",
      "bank_branch_clients           51 non-null object\n",
      "bank_name_clients             4346 non-null object\n",
      "birthdate                     4346 non-null object\n",
      "closeddate                    18183 non-null object\n",
      "creationdate                  22551 non-null object\n",
      "customerid                    26897 non-null object\n",
      "employment_status_clients     3698 non-null object\n",
      "firstduedate                  18183 non-null object\n",
      "firstrepaiddate               18183 non-null object\n",
      "good_bad_flag                 4368 non-null object\n",
      "latitude_gps                  4346 non-null float64\n",
      "level_of_education_clients    587 non-null object\n",
      "loanamount                    22551 non-null float64\n",
      "loannumber                    22551 non-null float64\n",
      "longitude_gps                 4346 non-null float64\n",
      "referredby                    1613 non-null object\n",
      "systemloanid                  22551 non-null float64\n",
      "termdays                      22551 non-null float64\n",
      "totaldue                      22551 non-null float64\n",
      "dtypes: float64(7), object(14)\n",
      "memory usage: 4.5+ MB\n"
     ]
    }
   ],
   "source": [
    "# Information about the data and datatypes of each respective attribute\n",
    "merged_df.info()"
   ]
  },
  {
   "cell_type": "code",
   "execution_count": 20,
   "metadata": {},
   "outputs": [
    {
     "data": {
      "text/plain": [
       "approveddate                   object\n",
       "bank_account_type              object\n",
       "bank_branch_clients            object\n",
       "bank_name_clients              object\n",
       "birthdate                      object\n",
       "closeddate                     object\n",
       "creationdate                   object\n",
       "customerid                     object\n",
       "employment_status_clients      object\n",
       "firstduedate                   object\n",
       "firstrepaiddate                object\n",
       "good_bad_flag                  object\n",
       "latitude_gps                  float64\n",
       "level_of_education_clients     object\n",
       "loanamount                    float64\n",
       "loannumber                    float64\n",
       "longitude_gps                 float64\n",
       "referredby                     object\n",
       "systemloanid                  float64\n",
       "termdays                      float64\n",
       "totaldue                      float64\n",
       "dtype: object"
      ]
     },
     "execution_count": 20,
     "metadata": {},
     "output_type": "execute_result"
    }
   ],
   "source": [
    "merged_df.dtypes"
   ]
  },
  {
   "cell_type": "markdown",
   "metadata": {},
   "source": [
    "CONVERT THE DATATYPE OF A DATE COLUMN TO DATETIME"
   ]
  },
  {
   "cell_type": "code",
   "execution_count": 21,
   "metadata": {},
   "outputs": [],
   "source": [
    "datetime1=merged_df[\"birthdate\"]=pd.to_datetime(merged_df[\"birthdate\"])\n",
    "datetime2=merged_df[\"approveddate\"]=pd.to_datetime(merged_df[\"approveddate\"])\n",
    "datetime3=merged_df[\"creationdate\"]=pd.to_datetime(merged_df[\"creationdate\"])\n",
    "datetime4=merged_df[\"closeddate\"]=pd.to_datetime(merged_df[\"closeddate\"])\n",
    "datetime5=merged_df[\"firstduedate\"]=pd.to_datetime(merged_df[\"firstduedate\"])\n",
    "datetime6=merged_df[\"firstrepaiddate\"]=pd.to_datetime(merged_df[\"firstrepaiddate\"])"
   ]
  },
  {
   "cell_type": "markdown",
   "metadata": {},
   "source": [
    "EXTRACTING THE DAY ,MONTH AND YEAR FROM THE DATETIME"
   ]
  },
  {
   "cell_type": "code",
   "execution_count": 22,
   "metadata": {},
   "outputs": [],
   "source": [
    "#Extracting the day ,month and year\n",
    "merged_df['day'] = pd.DatetimeIndex(merged_df['birthdate']).day\n",
    "merged_df['year'] = pd.DatetimeIndex(merged_df['birthdate']).year\n",
    "merged_df['month'] = pd.DatetimeIndex(merged_df['birthdate']).month"
   ]
  },
  {
   "cell_type": "code",
   "execution_count": 23,
   "metadata": {},
   "outputs": [
    {
     "data": {
      "text/plain": [
       "0        NaN\n",
       "1        NaN\n",
       "2        NaN\n",
       "3        NaN\n",
       "4        NaN\n",
       "        ... \n",
       "4341    13.0\n",
       "4342     1.0\n",
       "4343    26.0\n",
       "4344     6.0\n",
       "4345     5.0\n",
       "Name: day, Length: 26897, dtype: float64"
      ]
     },
     "execution_count": 23,
     "metadata": {},
     "output_type": "execute_result"
    }
   ],
   "source": [
    "merged_df['day']"
   ]
  },
  {
   "cell_type": "code",
   "execution_count": 24,
   "metadata": {},
   "outputs": [
    {
     "data": {
      "text/plain": [
       "0          NaN\n",
       "1          NaN\n",
       "2          NaN\n",
       "3          NaN\n",
       "4          NaN\n",
       "         ...  \n",
       "4341    1985.0\n",
       "4342    1982.0\n",
       "4343    1989.0\n",
       "4344    1985.0\n",
       "4345    1975.0\n",
       "Name: year, Length: 26897, dtype: float64"
      ]
     },
     "execution_count": 24,
     "metadata": {},
     "output_type": "execute_result"
    }
   ],
   "source": [
    "merged_df['year']"
   ]
  },
  {
   "cell_type": "code",
   "execution_count": 25,
   "metadata": {},
   "outputs": [
    {
     "data": {
      "text/plain": [
       "0        NaN\n",
       "1        NaN\n",
       "2        NaN\n",
       "3        NaN\n",
       "4        NaN\n",
       "        ... \n",
       "4341    12.0\n",
       "4342     7.0\n",
       "4343     9.0\n",
       "4344     9.0\n",
       "4345     6.0\n",
       "Name: month, Length: 26897, dtype: float64"
      ]
     },
     "execution_count": 25,
     "metadata": {},
     "output_type": "execute_result"
    }
   ],
   "source": [
    "merged_df['month']"
   ]
  },
  {
   "cell_type": "code",
   "execution_count": 26,
   "metadata": {},
   "outputs": [],
   "source": [
    "#Extracting the day ,month and year\n",
    "merged_df['day'] = pd.DatetimeIndex(merged_df['approveddate']).day\n",
    "merged_df['year'] = pd.DatetimeIndex(merged_df['approveddate']).year\n",
    "merged_df['month'] = pd.DatetimeIndex(merged_df['approveddate']).month"
   ]
  },
  {
   "cell_type": "code",
   "execution_count": 27,
   "metadata": {},
   "outputs": [
    {
     "data": {
      "text/plain": [
       "0       15.0\n",
       "1       28.0\n",
       "2        5.0\n",
       "3        9.0\n",
       "4       17.0\n",
       "        ... \n",
       "4341     NaN\n",
       "4342     NaN\n",
       "4343     NaN\n",
       "4344     NaN\n",
       "4345     NaN\n",
       "Name: day, Length: 26897, dtype: float64"
      ]
     },
     "execution_count": 27,
     "metadata": {},
     "output_type": "execute_result"
    }
   ],
   "source": [
    "merged_df['day']"
   ]
  },
  {
   "cell_type": "code",
   "execution_count": 28,
   "metadata": {},
   "outputs": [
    {
     "data": {
      "text/plain": [
       "0       8.0\n",
       "1       4.0\n",
       "2       3.0\n",
       "3       4.0\n",
       "4       6.0\n",
       "       ... \n",
       "4341    NaN\n",
       "4342    NaN\n",
       "4343    NaN\n",
       "4344    NaN\n",
       "4345    NaN\n",
       "Name: month, Length: 26897, dtype: float64"
      ]
     },
     "execution_count": 28,
     "metadata": {},
     "output_type": "execute_result"
    }
   ],
   "source": [
    "merged_df['month']"
   ]
  },
  {
   "cell_type": "code",
   "execution_count": 30,
   "metadata": {},
   "outputs": [
    {
     "data": {
      "text/plain": [
       "0       2016.0\n",
       "1       2017.0\n",
       "2       2017.0\n",
       "3       2017.0\n",
       "4       2017.0\n",
       "         ...  \n",
       "4341       NaN\n",
       "4342       NaN\n",
       "4343       NaN\n",
       "4344       NaN\n",
       "4345       NaN\n",
       "Name: year, Length: 26897, dtype: float64"
      ]
     },
     "execution_count": 30,
     "metadata": {},
     "output_type": "execute_result"
    }
   ],
   "source": [
    "merged_df['year']"
   ]
  },
  {
   "cell_type": "code",
   "execution_count": 33,
   "metadata": {},
   "outputs": [],
   "source": [
    "#Extracting the day ,month and year\n",
    "merged_df['day'] = pd.DatetimeIndex(merged_df['firstduedate']).day\n",
    "merged_df['year'] = pd.DatetimeIndex(merged_df['firstduedate']).year\n",
    "merged_df['month'] = pd.DatetimeIndex(merged_df['firstduedate']).month"
   ]
  },
  {
   "cell_type": "code",
   "execution_count": 34,
   "metadata": {},
   "outputs": [
    {
     "data": {
      "text/plain": [
       "0       14.0\n",
       "1       30.0\n",
       "2        4.0\n",
       "3       24.0\n",
       "4        3.0\n",
       "        ... \n",
       "4341     NaN\n",
       "4342     NaN\n",
       "4343     NaN\n",
       "4344     NaN\n",
       "4345     NaN\n",
       "Name: day, Length: 26897, dtype: float64"
      ]
     },
     "execution_count": 34,
     "metadata": {},
     "output_type": "execute_result"
    }
   ],
   "source": [
    "merged_df['day']"
   ]
  },
  {
   "cell_type": "code",
   "execution_count": 35,
   "metadata": {},
   "outputs": [
    {
     "data": {
      "text/plain": [
       "0       9.0\n",
       "1       5.0\n",
       "2       4.0\n",
       "3       4.0\n",
       "4       7.0\n",
       "       ... \n",
       "4341    NaN\n",
       "4342    NaN\n",
       "4343    NaN\n",
       "4344    NaN\n",
       "4345    NaN\n",
       "Name: month, Length: 26897, dtype: float64"
      ]
     },
     "execution_count": 35,
     "metadata": {},
     "output_type": "execute_result"
    }
   ],
   "source": [
    "merged_df['month']"
   ]
  },
  {
   "cell_type": "code",
   "execution_count": 36,
   "metadata": {},
   "outputs": [
    {
     "data": {
      "text/plain": [
       "0       2016.0\n",
       "1       2017.0\n",
       "2       2017.0\n",
       "3       2017.0\n",
       "4       2017.0\n",
       "         ...  \n",
       "4341       NaN\n",
       "4342       NaN\n",
       "4343       NaN\n",
       "4344       NaN\n",
       "4345       NaN\n",
       "Name: year, Length: 26897, dtype: float64"
      ]
     },
     "execution_count": 36,
     "metadata": {},
     "output_type": "execute_result"
    }
   ],
   "source": [
    "merged_df['year']"
   ]
  },
  {
   "cell_type": "code",
   "execution_count": 37,
   "metadata": {},
   "outputs": [],
   "source": [
    "#Extracting the day ,month and year\n",
    "merged_df['day'] = pd.DatetimeIndex(merged_df['firstrepaiddate']).day\n",
    "merged_df['year'] = pd.DatetimeIndex(merged_df['firstrepaiddate']).year\n",
    "merged_df['month'] = pd.DatetimeIndex(merged_df['firstrepaiddate']).month"
   ]
  },
  {
   "cell_type": "code",
   "execution_count": 38,
   "metadata": {},
   "outputs": [
    {
     "data": {
      "text/plain": [
       "approveddate                  datetime64[ns]\n",
       "bank_account_type                     object\n",
       "bank_branch_clients                   object\n",
       "bank_name_clients                     object\n",
       "birthdate                     datetime64[ns]\n",
       "closeddate                    datetime64[ns]\n",
       "creationdate                  datetime64[ns]\n",
       "customerid                            object\n",
       "employment_status_clients             object\n",
       "firstduedate                  datetime64[ns]\n",
       "firstrepaiddate               datetime64[ns]\n",
       "good_bad_flag                         object\n",
       "latitude_gps                         float64\n",
       "level_of_education_clients            object\n",
       "loanamount                           float64\n",
       "loannumber                           float64\n",
       "longitude_gps                        float64\n",
       "referredby                            object\n",
       "systemloanid                         float64\n",
       "termdays                             float64\n",
       "totaldue                             float64\n",
       "day                                  float64\n",
       "year                                 float64\n",
       "month                                float64\n",
       "dtype: object"
      ]
     },
     "execution_count": 38,
     "metadata": {},
     "output_type": "execute_result"
    }
   ],
   "source": [
    "merged_df.dtypes"
   ]
  },
  {
   "cell_type": "code",
   "execution_count": 39,
   "metadata": {},
   "outputs": [
    {
     "data": {
      "text/html": [
       "<div>\n",
       "<style scoped>\n",
       "    .dataframe tbody tr th:only-of-type {\n",
       "        vertical-align: middle;\n",
       "    }\n",
       "\n",
       "    .dataframe tbody tr th {\n",
       "        vertical-align: top;\n",
       "    }\n",
       "\n",
       "    .dataframe thead th {\n",
       "        text-align: right;\n",
       "    }\n",
       "</style>\n",
       "<table border=\"1\" class=\"dataframe\">\n",
       "  <thead>\n",
       "    <tr style=\"text-align: right;\">\n",
       "      <th></th>\n",
       "      <th>latitude_gps</th>\n",
       "      <th>loanamount</th>\n",
       "      <th>loannumber</th>\n",
       "      <th>longitude_gps</th>\n",
       "      <th>systemloanid</th>\n",
       "      <th>termdays</th>\n",
       "      <th>totaldue</th>\n",
       "      <th>day</th>\n",
       "      <th>year</th>\n",
       "      <th>month</th>\n",
       "    </tr>\n",
       "  </thead>\n",
       "  <tbody>\n",
       "    <tr>\n",
       "      <td>count</td>\n",
       "      <td>4346.000000</td>\n",
       "      <td>22551.000000</td>\n",
       "      <td>22551.000000</td>\n",
       "      <td>4346.000000</td>\n",
       "      <td>2.255100e+04</td>\n",
       "      <td>22551.000000</td>\n",
       "      <td>22551.000000</td>\n",
       "      <td>18183.000000</td>\n",
       "      <td>18183.00000</td>\n",
       "      <td>18183.000000</td>\n",
       "    </tr>\n",
       "    <tr>\n",
       "      <td>mean</td>\n",
       "      <td>7.251356</td>\n",
       "      <td>16754.556339</td>\n",
       "      <td>4.379761</td>\n",
       "      <td>4.626189</td>\n",
       "      <td>3.018669e+08</td>\n",
       "      <td>27.190368</td>\n",
       "      <td>19899.417968</td>\n",
       "      <td>15.788759</td>\n",
       "      <td>2016.76841</td>\n",
       "      <td>5.890777</td>\n",
       "    </tr>\n",
       "    <tr>\n",
       "      <td>std</td>\n",
       "      <td>3.055052</td>\n",
       "      <td>9627.599069</td>\n",
       "      <td>3.354077</td>\n",
       "      <td>7.184832</td>\n",
       "      <td>1.011780e+05</td>\n",
       "      <td>11.104686</td>\n",
       "      <td>10779.105550</td>\n",
       "      <td>9.206882</td>\n",
       "      <td>0.42186</td>\n",
       "      <td>2.705192</td>\n",
       "    </tr>\n",
       "    <tr>\n",
       "      <td>min</td>\n",
       "      <td>-33.868818</td>\n",
       "      <td>3000.000000</td>\n",
       "      <td>1.000000</td>\n",
       "      <td>-118.247009</td>\n",
       "      <td>3.016001e+08</td>\n",
       "      <td>15.000000</td>\n",
       "      <td>3450.000000</td>\n",
       "      <td>1.000000</td>\n",
       "      <td>2016.00000</td>\n",
       "      <td>1.000000</td>\n",
       "    </tr>\n",
       "    <tr>\n",
       "      <td>25%</td>\n",
       "      <td>6.470610</td>\n",
       "      <td>10000.000000</td>\n",
       "      <td>2.000000</td>\n",
       "      <td>3.354953</td>\n",
       "      <td>3.017994e+08</td>\n",
       "      <td>15.000000</td>\n",
       "      <td>12250.000000</td>\n",
       "      <td>7.000000</td>\n",
       "      <td>2017.00000</td>\n",
       "      <td>4.000000</td>\n",
       "    </tr>\n",
       "    <tr>\n",
       "      <td>50%</td>\n",
       "      <td>6.621888</td>\n",
       "      <td>10000.000000</td>\n",
       "      <td>3.000000</td>\n",
       "      <td>3.593302</td>\n",
       "      <td>3.018890e+08</td>\n",
       "      <td>30.000000</td>\n",
       "      <td>13000.000000</td>\n",
       "      <td>16.000000</td>\n",
       "      <td>2017.00000</td>\n",
       "      <td>6.000000</td>\n",
       "    </tr>\n",
       "    <tr>\n",
       "      <td>75%</td>\n",
       "      <td>7.425052</td>\n",
       "      <td>20000.000000</td>\n",
       "      <td>6.000000</td>\n",
       "      <td>6.545220</td>\n",
       "      <td>3.019494e+08</td>\n",
       "      <td>30.000000</td>\n",
       "      <td>24500.000000</td>\n",
       "      <td>24.000000</td>\n",
       "      <td>2017.00000</td>\n",
       "      <td>7.000000</td>\n",
       "    </tr>\n",
       "    <tr>\n",
       "      <td>max</td>\n",
       "      <td>71.228069</td>\n",
       "      <td>60000.000000</td>\n",
       "      <td>27.000000</td>\n",
       "      <td>151.209290</td>\n",
       "      <td>3.020040e+08</td>\n",
       "      <td>90.000000</td>\n",
       "      <td>68100.000000</td>\n",
       "      <td>31.000000</td>\n",
       "      <td>2017.00000</td>\n",
       "      <td>12.000000</td>\n",
       "    </tr>\n",
       "  </tbody>\n",
       "</table>\n",
       "</div>"
      ],
      "text/plain": [
       "       latitude_gps    loanamount    loannumber  longitude_gps  systemloanid  \\\n",
       "count   4346.000000  22551.000000  22551.000000    4346.000000  2.255100e+04   \n",
       "mean       7.251356  16754.556339      4.379761       4.626189  3.018669e+08   \n",
       "std        3.055052   9627.599069      3.354077       7.184832  1.011780e+05   \n",
       "min      -33.868818   3000.000000      1.000000    -118.247009  3.016001e+08   \n",
       "25%        6.470610  10000.000000      2.000000       3.354953  3.017994e+08   \n",
       "50%        6.621888  10000.000000      3.000000       3.593302  3.018890e+08   \n",
       "75%        7.425052  20000.000000      6.000000       6.545220  3.019494e+08   \n",
       "max       71.228069  60000.000000     27.000000     151.209290  3.020040e+08   \n",
       "\n",
       "           termdays      totaldue           day         year         month  \n",
       "count  22551.000000  22551.000000  18183.000000  18183.00000  18183.000000  \n",
       "mean      27.190368  19899.417968     15.788759   2016.76841      5.890777  \n",
       "std       11.104686  10779.105550      9.206882      0.42186      2.705192  \n",
       "min       15.000000   3450.000000      1.000000   2016.00000      1.000000  \n",
       "25%       15.000000  12250.000000      7.000000   2017.00000      4.000000  \n",
       "50%       30.000000  13000.000000     16.000000   2017.00000      6.000000  \n",
       "75%       30.000000  24500.000000     24.000000   2017.00000      7.000000  \n",
       "max       90.000000  68100.000000     31.000000   2017.00000     12.000000  "
      ]
     },
     "execution_count": 39,
     "metadata": {},
     "output_type": "execute_result"
    }
   ],
   "source": [
    "merged_df.describe()"
   ]
  },
  {
   "cell_type": "markdown",
   "metadata": {},
   "source": [
    "CHECKING FOR MISSING VALUES"
   ]
  },
  {
   "cell_type": "code",
   "execution_count": 40,
   "metadata": {},
   "outputs": [
    {
     "data": {
      "text/plain": [
       "approveddate                   4346\n",
       "bank_account_type             22551\n",
       "bank_branch_clients           26846\n",
       "bank_name_clients             22551\n",
       "birthdate                     22551\n",
       "closeddate                     8714\n",
       "creationdate                   4346\n",
       "customerid                        0\n",
       "employment_status_clients     23199\n",
       "firstduedate                   8714\n",
       "firstrepaiddate                8714\n",
       "good_bad_flag                 22529\n",
       "latitude_gps                  22551\n",
       "level_of_education_clients    26310\n",
       "loanamount                     4346\n",
       "loannumber                     4346\n",
       "longitude_gps                 22551\n",
       "referredby                    25284\n",
       "systemloanid                   4346\n",
       "termdays                       4346\n",
       "totaldue                       4346\n",
       "day                            8714\n",
       "year                           8714\n",
       "month                          8714\n",
       "dtype: int64"
      ]
     },
     "execution_count": 40,
     "metadata": {},
     "output_type": "execute_result"
    }
   ],
   "source": [
    "#To check the missing values of the column\n",
    "merged_df.isnull().sum()"
   ]
  },
  {
   "cell_type": "markdown",
   "metadata": {},
   "source": [
    "REPLACING MISSING VALUES IN THE MERGED DATA FRAME WITH ZERO"
   ]
  },
  {
   "cell_type": "code",
   "execution_count": 41,
   "metadata": {},
   "outputs": [],
   "source": [
    "merged_df.termdays= merged_df.termdays.fillna(0)"
   ]
  },
  {
   "cell_type": "code",
   "execution_count": 42,
   "metadata": {},
   "outputs": [],
   "source": [
    "merged_df.firstduedate= merged_df.firstduedate.fillna(0)"
   ]
  },
  {
   "cell_type": "code",
   "execution_count": 43,
   "metadata": {},
   "outputs": [],
   "source": [
    "merged_df.firstrepaiddate= merged_df.firstrepaiddate.fillna(0)"
   ]
  },
  {
   "cell_type": "code",
   "execution_count": 44,
   "metadata": {},
   "outputs": [],
   "source": [
    "merged_df.referredby= merged_df.referredby.fillna(0)"
   ]
  },
  {
   "cell_type": "code",
   "execution_count": 45,
   "metadata": {},
   "outputs": [],
   "source": [
    "merged_df.loanamount= merged_df.loanamount.fillna(0)"
   ]
  },
  {
   "cell_type": "code",
   "execution_count": 46,
   "metadata": {},
   "outputs": [],
   "source": [
    "merged_df.loannumber= merged_df.loannumber.fillna(0)"
   ]
  },
  {
   "cell_type": "code",
   "execution_count": 47,
   "metadata": {},
   "outputs": [],
   "source": [
    "merged_df.level_of_education_clients= merged_df.level_of_education_clients.fillna(0)"
   ]
  },
  {
   "cell_type": "code",
   "execution_count": 48,
   "metadata": {},
   "outputs": [],
   "source": [
    "merged_df.approveddate= merged_df.approveddate.fillna(0)"
   ]
  },
  {
   "cell_type": "code",
   "execution_count": 49,
   "metadata": {},
   "outputs": [],
   "source": [
    "merged_df.creationdate= merged_df.creationdate.fillna(0)"
   ]
  },
  {
   "cell_type": "code",
   "execution_count": 50,
   "metadata": {},
   "outputs": [],
   "source": [
    "merged_df.birthdate= merged_df.birthdate.fillna(0)"
   ]
  },
  {
   "cell_type": "code",
   "execution_count": 51,
   "metadata": {},
   "outputs": [],
   "source": [
    "merged_df.closeddate= merged_df.closeddate.fillna(0)"
   ]
  },
  {
   "cell_type": "code",
   "execution_count": 52,
   "metadata": {},
   "outputs": [],
   "source": [
    "merged_df.bank_account_type= merged_df.bank_account_type.fillna(0)"
   ]
  },
  {
   "cell_type": "code",
   "execution_count": 53,
   "metadata": {},
   "outputs": [],
   "source": [
    "merged_df.bank_name_clients= merged_df.bank_name_clients.fillna(0)"
   ]
  },
  {
   "cell_type": "code",
   "execution_count": 54,
   "metadata": {},
   "outputs": [],
   "source": [
    "merged_df.bank_branch_clients= merged_df.bank_branch_clients.fillna(0)"
   ]
  },
  {
   "cell_type": "code",
   "execution_count": 55,
   "metadata": {},
   "outputs": [],
   "source": [
    "merged_df.employment_status_clients= merged_df.employment_status_clients.fillna(0)"
   ]
  },
  {
   "cell_type": "code",
   "execution_count": 56,
   "metadata": {},
   "outputs": [],
   "source": [
    "merged_df.good_bad_flag= merged_df.good_bad_flag.fillna(0)"
   ]
  },
  {
   "cell_type": "code",
   "execution_count": 57,
   "metadata": {},
   "outputs": [],
   "source": [
    "merged_df.totaldue= merged_df.totaldue.fillna(0)"
   ]
  },
  {
   "cell_type": "code",
   "execution_count": 58,
   "metadata": {},
   "outputs": [],
   "source": [
    "merged_df.systemloanid= merged_df.systemloanid.fillna(0)"
   ]
  },
  {
   "cell_type": "code",
   "execution_count": 59,
   "metadata": {},
   "outputs": [],
   "source": [
    "merged_df.longitude_gps= merged_df.longitude_gps.fillna(0)"
   ]
  },
  {
   "cell_type": "code",
   "execution_count": 60,
   "metadata": {},
   "outputs": [],
   "source": [
    "merged_df.latitude_gps= merged_df.latitude_gps.fillna(0)"
   ]
  },
  {
   "cell_type": "code",
   "execution_count": 61,
   "metadata": {},
   "outputs": [
    {
     "data": {
      "text/plain": [
       "0       0.000000\n",
       "1       0.000000\n",
       "2       0.000000\n",
       "3       0.000000\n",
       "4       0.000000\n",
       "          ...   \n",
       "4341    7.030168\n",
       "4342    4.875662\n",
       "4343    7.092508\n",
       "4344    6.539070\n",
       "4345    7.472700\n",
       "Name: latitude_gps, Length: 26897, dtype: float64"
      ]
     },
     "execution_count": 61,
     "metadata": {},
     "output_type": "execute_result"
    }
   ],
   "source": [
    "#Here the row 0-4 had a missing value and was substituted by zero\n",
    "merged_df.latitude_gps"
   ]
  },
  {
   "cell_type": "code",
   "execution_count": 62,
   "metadata": {},
   "outputs": [
    {
     "data": {
      "text/plain": [
       "0       30.0\n",
       "1       30.0\n",
       "2       30.0\n",
       "3       15.0\n",
       "4       15.0\n",
       "        ... \n",
       "4341     0.0\n",
       "4342     0.0\n",
       "4343     0.0\n",
       "4344     0.0\n",
       "4345     0.0\n",
       "Name: termdays, Length: 26897, dtype: float64"
      ]
     },
     "execution_count": 62,
     "metadata": {},
     "output_type": "execute_result"
    }
   ],
   "source": [
    "merged_df.termdays"
   ]
  },
  {
   "cell_type": "code",
   "execution_count": 63,
   "metadata": {},
   "outputs": [
    {
     "data": {
      "text/plain": [
       "0       2016-09-14 00:00:00\n",
       "1       2017-05-30 00:00:00\n",
       "2       2017-04-04 00:00:00\n",
       "3       2017-04-24 00:00:00\n",
       "4       2017-07-03 00:00:00\n",
       "               ...         \n",
       "4341                      0\n",
       "4342                      0\n",
       "4343                      0\n",
       "4344                      0\n",
       "4345                      0\n",
       "Name: firstduedate, Length: 26897, dtype: object"
      ]
     },
     "execution_count": 63,
     "metadata": {},
     "output_type": "execute_result"
    }
   ],
   "source": [
    "merged_df.firstduedate"
   ]
  },
  {
   "cell_type": "code",
   "execution_count": 64,
   "metadata": {},
   "outputs": [
    {
     "data": {
      "text/plain": [
       "0       2016-09-01 15:51:43\n",
       "1       2017-05-26 00:00:00\n",
       "2       2017-04-26 22:03:47\n",
       "3       2017-04-24 00:48:43\n",
       "4       2017-07-14 21:08:35\n",
       "               ...         \n",
       "4341                      0\n",
       "4342                      0\n",
       "4343                      0\n",
       "4344                      0\n",
       "4345                      0\n",
       "Name: firstrepaiddate, Length: 26897, dtype: object"
      ]
     },
     "execution_count": 64,
     "metadata": {},
     "output_type": "execute_result"
    }
   ],
   "source": [
    "merged_df.firstrepaiddate"
   ]
  },
  {
   "cell_type": "code",
   "execution_count": 65,
   "metadata": {},
   "outputs": [
    {
     "data": {
      "text/plain": [
       "0       0\n",
       "1       0\n",
       "2       0\n",
       "3       0\n",
       "4       0\n",
       "       ..\n",
       "4341    0\n",
       "4342    0\n",
       "4343    0\n",
       "4344    0\n",
       "4345    0\n",
       "Name: referredby, Length: 26897, dtype: object"
      ]
     },
     "execution_count": 65,
     "metadata": {},
     "output_type": "execute_result"
    }
   ],
   "source": [
    "merged_df.referredby"
   ]
  },
  {
   "cell_type": "code",
   "execution_count": 66,
   "metadata": {},
   "outputs": [
    {
     "data": {
      "text/plain": [
       "0       2.0\n",
       "1       9.0\n",
       "2       8.0\n",
       "3       5.0\n",
       "4       2.0\n",
       "       ... \n",
       "4341    0.0\n",
       "4342    0.0\n",
       "4343    0.0\n",
       "4344    0.0\n",
       "4345    0.0\n",
       "Name: loannumber, Length: 26897, dtype: float64"
      ]
     },
     "execution_count": 66,
     "metadata": {},
     "output_type": "execute_result"
    }
   ],
   "source": [
    "merged_df.loannumber"
   ]
  },
  {
   "cell_type": "code",
   "execution_count": 67,
   "metadata": {},
   "outputs": [
    {
     "data": {
      "text/plain": [
       "0              0\n",
       "1              0\n",
       "2              0\n",
       "3              0\n",
       "4              0\n",
       "          ...   \n",
       "4341    Graduate\n",
       "4342           0\n",
       "4343           0\n",
       "4344     Primary\n",
       "4345           0\n",
       "Name: level_of_education_clients, Length: 26897, dtype: object"
      ]
     },
     "execution_count": 67,
     "metadata": {},
     "output_type": "execute_result"
    }
   ],
   "source": [
    "merged_df.level_of_education_clients"
   ]
  },
  {
   "cell_type": "code",
   "execution_count": 70,
   "metadata": {},
   "outputs": [
    {
     "data": {
      "text/plain": [
       "latitude_gps             0.0\n",
       "loanamount           10000.0\n",
       "loannumber               3.0\n",
       "longitude_gps            0.0\n",
       "systemloanid     301855203.0\n",
       "termdays                30.0\n",
       "totaldue             13000.0\n",
       "day                     16.0\n",
       "year                  2017.0\n",
       "month                    6.0\n",
       "dtype: float64"
      ]
     },
     "execution_count": 70,
     "metadata": {},
     "output_type": "execute_result"
    }
   ],
   "source": [
    "#The median value of a the merged data frame\n",
    "merged_df.median()"
   ]
  },
  {
   "cell_type": "code",
   "execution_count": 69,
   "metadata": {},
   "outputs": [],
   "source": [
    "median1=merged_df[\"latitude_gps\"].median()\n",
    "median2=merged_df[\"loanamount\"].median()\n",
    "median3=merged_df[\"loannumber\"].median()\n",
    "median4=merged_df[\"longitude_gps\"].median()\n",
    "median5=merged_df[\"systemloanid\"].median()\n",
    "median6=merged_df[\"termdays\"].median()"
   ]
  },
  {
   "cell_type": "code",
   "execution_count": null,
   "metadata": {},
   "outputs": [],
   "source": [
    "merged_df.drop('county_name',\n",
    "  axis='columns', inplace=True)"
   ]
  },
  {
   "cell_type": "code",
   "execution_count": 74,
   "metadata": {},
   "outputs": [
    {
     "data": {
      "text/html": [
       "<div>\n",
       "<style scoped>\n",
       "    .dataframe tbody tr th:only-of-type {\n",
       "        vertical-align: middle;\n",
       "    }\n",
       "\n",
       "    .dataframe tbody tr th {\n",
       "        vertical-align: top;\n",
       "    }\n",
       "\n",
       "    .dataframe thead th {\n",
       "        text-align: right;\n",
       "    }\n",
       "</style>\n",
       "<table border=\"1\" class=\"dataframe\">\n",
       "  <thead>\n",
       "    <tr style=\"text-align: right;\">\n",
       "      <th></th>\n",
       "      <th>approveddate</th>\n",
       "      <th>bank_account_type</th>\n",
       "      <th>bank_branch_clients</th>\n",
       "      <th>bank_name_clients</th>\n",
       "      <th>birthdate</th>\n",
       "      <th>closeddate</th>\n",
       "      <th>creationdate</th>\n",
       "      <th>customerid</th>\n",
       "      <th>employment_status_clients</th>\n",
       "      <th>firstduedate</th>\n",
       "      <th>...</th>\n",
       "      <th>loanamount</th>\n",
       "      <th>loannumber</th>\n",
       "      <th>longitude_gps</th>\n",
       "      <th>referredby</th>\n",
       "      <th>systemloanid</th>\n",
       "      <th>termdays</th>\n",
       "      <th>totaldue</th>\n",
       "      <th>day</th>\n",
       "      <th>year</th>\n",
       "      <th>month</th>\n",
       "    </tr>\n",
       "  </thead>\n",
       "  <tbody>\n",
       "    <tr>\n",
       "      <td>0</td>\n",
       "      <td>2016-08-15 18:22:40</td>\n",
       "      <td>0</td>\n",
       "      <td>0</td>\n",
       "      <td>0</td>\n",
       "      <td>0</td>\n",
       "      <td>2016-09-01 16:06:48</td>\n",
       "      <td>2016-08-15 17:22:32</td>\n",
       "      <td>8a2a81a74ce8c05d014cfb32a0da1049</td>\n",
       "      <td>0</td>\n",
       "      <td>2016-09-14 00:00:00</td>\n",
       "      <td>...</td>\n",
       "      <td>10000.0</td>\n",
       "      <td>2.0</td>\n",
       "      <td>0.0</td>\n",
       "      <td>0</td>\n",
       "      <td>301682320.0</td>\n",
       "      <td>30.0</td>\n",
       "      <td>13000.0</td>\n",
       "      <td>1.0</td>\n",
       "      <td>2016.0</td>\n",
       "      <td>9.0</td>\n",
       "    </tr>\n",
       "    <tr>\n",
       "      <td>1</td>\n",
       "      <td>2017-04-28 18:39:07</td>\n",
       "      <td>0</td>\n",
       "      <td>0</td>\n",
       "      <td>0</td>\n",
       "      <td>0</td>\n",
       "      <td>2017-05-28 14:44:49</td>\n",
       "      <td>2017-04-28 17:38:53</td>\n",
       "      <td>8a2a81a74ce8c05d014cfb32a0da1049</td>\n",
       "      <td>0</td>\n",
       "      <td>2017-05-30 00:00:00</td>\n",
       "      <td>...</td>\n",
       "      <td>10000.0</td>\n",
       "      <td>9.0</td>\n",
       "      <td>0.0</td>\n",
       "      <td>0</td>\n",
       "      <td>301883808.0</td>\n",
       "      <td>30.0</td>\n",
       "      <td>13000.0</td>\n",
       "      <td>26.0</td>\n",
       "      <td>2017.0</td>\n",
       "      <td>5.0</td>\n",
       "    </tr>\n",
       "    <tr>\n",
       "      <td>2</td>\n",
       "      <td>2017-03-05 10:56:25</td>\n",
       "      <td>0</td>\n",
       "      <td>0</td>\n",
       "      <td>0</td>\n",
       "      <td>0</td>\n",
       "      <td>2017-04-26 22:18:56</td>\n",
       "      <td>2017-03-05 09:56:19</td>\n",
       "      <td>8a2a81a74ce8c05d014cfb32a0da1049</td>\n",
       "      <td>0</td>\n",
       "      <td>2017-04-04 00:00:00</td>\n",
       "      <td>...</td>\n",
       "      <td>20000.0</td>\n",
       "      <td>8.0</td>\n",
       "      <td>0.0</td>\n",
       "      <td>0</td>\n",
       "      <td>301831714.0</td>\n",
       "      <td>30.0</td>\n",
       "      <td>23800.0</td>\n",
       "      <td>26.0</td>\n",
       "      <td>2017.0</td>\n",
       "      <td>4.0</td>\n",
       "    </tr>\n",
       "    <tr>\n",
       "      <td>3</td>\n",
       "      <td>2017-04-09 18:25:55</td>\n",
       "      <td>0</td>\n",
       "      <td>0</td>\n",
       "      <td>0</td>\n",
       "      <td>0</td>\n",
       "      <td>2017-04-24 01:35:52</td>\n",
       "      <td>2017-04-09 17:25:42</td>\n",
       "      <td>8a8588f35438fe12015444567666018e</td>\n",
       "      <td>0</td>\n",
       "      <td>2017-04-24 00:00:00</td>\n",
       "      <td>...</td>\n",
       "      <td>10000.0</td>\n",
       "      <td>5.0</td>\n",
       "      <td>0.0</td>\n",
       "      <td>0</td>\n",
       "      <td>301861541.0</td>\n",
       "      <td>15.0</td>\n",
       "      <td>11500.0</td>\n",
       "      <td>24.0</td>\n",
       "      <td>2017.0</td>\n",
       "      <td>4.0</td>\n",
       "    </tr>\n",
       "    <tr>\n",
       "      <td>4</td>\n",
       "      <td>2017-06-17 09:29:57</td>\n",
       "      <td>0</td>\n",
       "      <td>0</td>\n",
       "      <td>0</td>\n",
       "      <td>0</td>\n",
       "      <td>2017-07-14 21:18:43</td>\n",
       "      <td>2017-06-17 08:29:50</td>\n",
       "      <td>8a85890754145ace015429211b513e16</td>\n",
       "      <td>0</td>\n",
       "      <td>2017-07-03 00:00:00</td>\n",
       "      <td>...</td>\n",
       "      <td>10000.0</td>\n",
       "      <td>2.0</td>\n",
       "      <td>0.0</td>\n",
       "      <td>0</td>\n",
       "      <td>301941754.0</td>\n",
       "      <td>15.0</td>\n",
       "      <td>11500.0</td>\n",
       "      <td>14.0</td>\n",
       "      <td>2017.0</td>\n",
       "      <td>7.0</td>\n",
       "    </tr>\n",
       "  </tbody>\n",
       "</table>\n",
       "<p>5 rows × 24 columns</p>\n",
       "</div>"
      ],
      "text/plain": [
       "          approveddate bank_account_type bank_branch_clients  \\\n",
       "0  2016-08-15 18:22:40                 0                   0   \n",
       "1  2017-04-28 18:39:07                 0                   0   \n",
       "2  2017-03-05 10:56:25                 0                   0   \n",
       "3  2017-04-09 18:25:55                 0                   0   \n",
       "4  2017-06-17 09:29:57                 0                   0   \n",
       "\n",
       "  bank_name_clients birthdate           closeddate         creationdate  \\\n",
       "0                 0         0  2016-09-01 16:06:48  2016-08-15 17:22:32   \n",
       "1                 0         0  2017-05-28 14:44:49  2017-04-28 17:38:53   \n",
       "2                 0         0  2017-04-26 22:18:56  2017-03-05 09:56:19   \n",
       "3                 0         0  2017-04-24 01:35:52  2017-04-09 17:25:42   \n",
       "4                 0         0  2017-07-14 21:18:43  2017-06-17 08:29:50   \n",
       "\n",
       "                         customerid employment_status_clients  \\\n",
       "0  8a2a81a74ce8c05d014cfb32a0da1049                         0   \n",
       "1  8a2a81a74ce8c05d014cfb32a0da1049                         0   \n",
       "2  8a2a81a74ce8c05d014cfb32a0da1049                         0   \n",
       "3  8a8588f35438fe12015444567666018e                         0   \n",
       "4  8a85890754145ace015429211b513e16                         0   \n",
       "\n",
       "          firstduedate  ... loanamount loannumber  longitude_gps referredby  \\\n",
       "0  2016-09-14 00:00:00  ...    10000.0        2.0            0.0          0   \n",
       "1  2017-05-30 00:00:00  ...    10000.0        9.0            0.0          0   \n",
       "2  2017-04-04 00:00:00  ...    20000.0        8.0            0.0          0   \n",
       "3  2017-04-24 00:00:00  ...    10000.0        5.0            0.0          0   \n",
       "4  2017-07-03 00:00:00  ...    10000.0        2.0            0.0          0   \n",
       "\n",
       "   systemloanid  termdays  totaldue   day    year  month  \n",
       "0   301682320.0      30.0   13000.0   1.0  2016.0    9.0  \n",
       "1   301883808.0      30.0   13000.0  26.0  2017.0    5.0  \n",
       "2   301831714.0      30.0   23800.0  26.0  2017.0    4.0  \n",
       "3   301861541.0      15.0   11500.0  24.0  2017.0    4.0  \n",
       "4   301941754.0      15.0   11500.0  14.0  2017.0    7.0  \n",
       "\n",
       "[5 rows x 24 columns]"
      ]
     },
     "execution_count": 74,
     "metadata": {},
     "output_type": "execute_result"
    }
   ],
   "source": [
    "#The merged data frame set after extracting \n",
    "merged_df.head()"
   ]
  },
  {
   "cell_type": "code",
   "execution_count": 72,
   "metadata": {},
   "outputs": [
    {
     "data": {
      "text/html": [
       "<div>\n",
       "<style scoped>\n",
       "    .dataframe tbody tr th:only-of-type {\n",
       "        vertical-align: middle;\n",
       "    }\n",
       "\n",
       "    .dataframe tbody tr th {\n",
       "        vertical-align: top;\n",
       "    }\n",
       "\n",
       "    .dataframe thead th {\n",
       "        text-align: right;\n",
       "    }\n",
       "</style>\n",
       "<table border=\"1\" class=\"dataframe\">\n",
       "  <thead>\n",
       "    <tr style=\"text-align: right;\">\n",
       "      <th></th>\n",
       "      <th>approveddate</th>\n",
       "      <th>bank_account_type</th>\n",
       "      <th>bank_branch_clients</th>\n",
       "      <th>bank_name_clients</th>\n",
       "      <th>birthdate</th>\n",
       "      <th>closeddate</th>\n",
       "      <th>creationdate</th>\n",
       "      <th>customerid</th>\n",
       "      <th>employment_status_clients</th>\n",
       "      <th>firstduedate</th>\n",
       "      <th>...</th>\n",
       "      <th>loanamount</th>\n",
       "      <th>loannumber</th>\n",
       "      <th>longitude_gps</th>\n",
       "      <th>referredby</th>\n",
       "      <th>systemloanid</th>\n",
       "      <th>termdays</th>\n",
       "      <th>totaldue</th>\n",
       "      <th>day</th>\n",
       "      <th>year</th>\n",
       "      <th>month</th>\n",
       "    </tr>\n",
       "  </thead>\n",
       "  <tbody>\n",
       "    <tr>\n",
       "      <td>0</td>\n",
       "      <td>0</td>\n",
       "      <td>0</td>\n",
       "      <td>0</td>\n",
       "      <td>0</td>\n",
       "      <td>0</td>\n",
       "      <td>0</td>\n",
       "      <td>0</td>\n",
       "      <td>8a858f7d5578012a01557ea194d94948</td>\n",
       "      <td>0</td>\n",
       "      <td>0</td>\n",
       "      <td>...</td>\n",
       "      <td>10000.0</td>\n",
       "      <td>2.0</td>\n",
       "      <td>0.0</td>\n",
       "      <td>0</td>\n",
       "      <td>0.0</td>\n",
       "      <td>30.0</td>\n",
       "      <td>13000.0</td>\n",
       "      <td>3.0</td>\n",
       "      <td>2017.0</td>\n",
       "      <td>7.0</td>\n",
       "    </tr>\n",
       "  </tbody>\n",
       "</table>\n",
       "<p>1 rows × 24 columns</p>\n",
       "</div>"
      ],
      "text/plain": [
       "  approveddate bank_account_type bank_branch_clients bank_name_clients  \\\n",
       "0            0                 0                   0                 0   \n",
       "\n",
       "  birthdate closeddate creationdate                        customerid  \\\n",
       "0         0          0            0  8a858f7d5578012a01557ea194d94948   \n",
       "\n",
       "  employment_status_clients firstduedate  ... loanamount loannumber  \\\n",
       "0                         0            0  ...    10000.0        2.0   \n",
       "\n",
       "   longitude_gps referredby  systemloanid  termdays  totaldue  day    year  \\\n",
       "0            0.0          0           0.0      30.0   13000.0  3.0  2017.0   \n",
       "\n",
       "   month  \n",
       "0    7.0  \n",
       "\n",
       "[1 rows x 24 columns]"
      ]
     },
     "execution_count": 72,
     "metadata": {},
     "output_type": "execute_result"
    }
   ],
   "source": [
    "#The mode value of a the merged data frame \n",
    "merged_df.mode()"
   ]
  },
  {
   "cell_type": "code",
   "execution_count": 81,
   "metadata": {},
   "outputs": [
    {
     "data": {
      "image/png": "[encoded data removed]",
      "text/plain": [
       "<Figure size 432x288 with 1 Axes>"
      ]
     },
     "metadata": {
      "needs_background": "light"
     },
     "output_type": "display_data"
    }
   ],
   "source": [
    "plt.scatter(df['approveddate'], df['creationdate'])\n",
    "plt.show()"
   ]
  },
  {
   "cell_type": "code",
   "execution_count": null,
   "metadata": {},
   "outputs": [],
   "source": []
  },
  {
   "cell_type": "code",
   "execution_count": null,
   "metadata": {},
   "outputs": [],
   "source": []
  },
  {
   "cell_type": "code",
   "execution_count": null,
   "metadata": {},
   "outputs": [],
   "source": []
  }
 ],
 "metadata": {
  "kernelspec": {
   "display_name": "Python 3",
   "language": "python",
   "name": "python3"
  },
  "language_info": {
   "codemirror_mode": {
    "name": "ipython",
    "version": 3
   },
   "file_extension": ".py",
   "mimetype": "text/x-python",
   "name": "python",
   "nbconvert_exporter": "python",
   "pygments_lexer": "ipython3",
   "version": "3.7.4"
  }
 },
 "nbformat": 4,
 "nbformat_minor": 2
}
